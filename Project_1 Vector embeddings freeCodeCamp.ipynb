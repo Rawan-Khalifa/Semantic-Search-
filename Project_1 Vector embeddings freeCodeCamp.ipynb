{
 "cells": [
  {
   "cell_type": "code",
   "execution_count": 8,
   "id": "f0d0c8e9",
   "metadata": {},
   "outputs": [
    {
     "name": "stdout",
     "output_type": "stream",
     "text": [
      "{'_id': ObjectId('573a1390f29313caabcd516c'), 'plot': 'Original advertising for the film describes it as a drama of primitive life on the shores of the North Pacific...', 'genres': ['Drama', 'History'], 'runtime': 65, 'cast': ['Stanley Hunt', 'Sarah Constance Smith Hunt', 'Mrs. George Walkus', \"Paddy 'Malid\"], 'num_mflix_comments': 1, 'poster': 'https://m.media-amazon.com/images/M/MV5BMjE3MjAyNzM5NV5BMl5BanBnXkFtZTgwMjA5OTg5NjE@._V1_SY1000_SX677_AL_.jpg', 'title': 'In the Land of the Head Hunters', 'lastupdated': '2015-09-16 12:11:37.770000000', 'languages': ['English'], 'released': datetime.datetime(1914, 12, 7, 0, 0), 'directors': ['Edward S. Curtis'], 'writers': ['Edward S. Curtis (story)'], 'awards': {'wins': 1, 'nominations': 0, 'text': '1 win.'}, 'year': 1914, 'imdb': {'rating': 5.8, 'votes': 223, 'id': 4150}, 'countries': ['USA'], 'type': 'movie', 'tomatoes': {'viewer': {'rating': 2.7, 'numReviews': 64, 'meter': 18}, 'dvd': datetime.datetime(2000, 8, 15, 0, 0), 'website': 'http://www.milestonefilms.com/', 'production': 'World Film Corporation', 'lastUpdated': datetime.datetime(2015, 8, 18, 19, 21, 12)}}\n",
      "{'_id': ObjectId('573a1390f29313caabcd42e8'), 'plot': 'A group of bandits stage a brazen train hold-up, only to find a determined posse hot on their heels.', 'genres': ['Short', 'Western'], 'runtime': 11, 'cast': ['A.C. Abadie', \"Gilbert M. 'Broncho Billy' Anderson\", 'George Barnes', 'Justus D. Barnes'], 'poster': 'https://m.media-amazon.com/images/M/MV5BMTU3NjE5NzYtYTYyNS00MDVmLWIwYjgtMmYwYWIxZDYyNzU2XkEyXkFqcGdeQXVyNzQzNzQxNzI@._V1_SY1000_SX677_AL_.jpg', 'title': 'The Great Train Robbery', 'fullplot': \"Among the earliest existing films in American cinema - notable as the first film that presented a narrative story to tell - it depicts a group of cowboy outlaws who hold up a train and rob the passengers. They are then pursued by a Sheriff's posse. Several scenes have color included - all hand tinted.\", 'languages': ['English'], 'released': datetime.datetime(1903, 12, 1, 0, 0), 'directors': ['Edwin S. Porter'], 'rated': 'TV-G', 'awards': {'wins': 1, 'nominations': 0, 'text': '1 win.'}, 'lastupdated': '2015-08-13 00:27:59.177000000', 'year': 1903, 'imdb': {'rating': 7.4, 'votes': 9847, 'id': 439}, 'countries': ['USA'], 'type': 'movie', 'tomatoes': {'viewer': {'rating': 3.7, 'numReviews': 2559, 'meter': 75}, 'fresh': 6, 'critic': {'rating': 7.6, 'numReviews': 6, 'meter': 100}, 'rotten': 0, 'lastUpdated': datetime.datetime(2015, 8, 8, 19, 16, 10)}, 'num_mflix_comments': 0}\n",
      "{'_id': ObjectId('573a1391f29313caabcd71e3'), 'plot': 'Wlliam deMille produced and directed Miss Lulu Bett, a film of extraordinary conviction and insight. It was then often the custom for unmarried women to lodge with family; thus we discover ...', 'genres': ['Comedy', 'Drama'], 'runtime': 71, 'cast': ['Lois Wilson', 'Milton Sills', 'Theodore Roberts', 'Helen Ferguson'], 'num_mflix_comments': 0, 'poster': 'https://m.media-amazon.com/images/M/MV5BMTY5MTY0MzY0Ml5BMl5BanBnXkFtZTgwNjE4NDAxMjE@._V1_SY1000_SX677_AL_.jpg', 'title': 'Miss Lulu Bett', 'fullplot': 'Wlliam deMille produced and directed Miss Lulu Bett, a film of extraordinary conviction and insight. It was then often the custom for unmarried women to lodge with family; thus we discover Miss Lulu in a boring Midwestern town, an exploited household drudge for her sister and her overbearing brother-in-law. In the course of the story (based upon the Pulitzer Prize play and novel by Zona Gale), Lulu evolves from slavery into an attractive and self-assured woman, prepared to make her own life. Revealed through wonderful performances and clever use of props, the characters are extraordinarily solid and involving.', 'countries': ['USA'], 'released': datetime.datetime(1921, 11, 1, 0, 0), 'directors': ['William C. de Mille'], 'writers': ['Clara Beranger (adaptation)', 'Zona Gale (novel)'], 'awards': {'wins': 1, 'nominations': 0, 'text': '1 win.'}, 'lastupdated': '2015-08-21 00:15:46.140000000', 'year': 1921, 'imdb': {'rating': 7.2, 'votes': 204, 'id': 12465}, 'type': 'movie', 'tomatoes': {'viewer': {'rating': 2.5, 'numReviews': 2}, 'lastUpdated': datetime.datetime(2015, 5, 2, 19, 3, 48)}}\n",
      "{'_id': ObjectId('573a1391f29313caabcd6f98'), 'plot': 'A romantic rivalry among members of a secret society becomes even tenser when one of the men is assigned to carry out an assassination.', 'genres': ['Crime', 'Drama', 'Mystery'], 'runtime': 75, 'rated': 'PASSED', 'cast': ['Lon Chaney', 'Leatrice Joy', 'John Bowers', 'Hardee Kirkland'], 'num_mflix_comments': 1, 'poster': 'https://m.media-amazon.com/images/M/MV5BMTkwOTUyNDk1N15BMl5BanBnXkFtZTYwODI3MzI3._V1_SY1000_SX677_AL_.jpg', 'title': 'The Ace of Hearts', 'fullplot': \"A secret society holds a meeting to determine what to do about a powerful and dangerous man whom they have been studying closely for the past three months. They all agree that he deserves to die. Two of the members, Farallone and Forrest, are both in love with Lilith, the group's only female member. But Lilith accepts neither of them, preferring to devote herself to the group's cause. When the group meets again and deals cards to all the members, Forrest draws the ace of hearts, meaning that he will be the one to carry out the assassination. Lilith then suddenly agrees to marry him, in order to give him courage. But after their first night together, both of them begin to feel differently about what they have planned.\", 'countries': ['USA'], 'released': datetime.datetime(1924, 4, 4, 0, 0), 'directors': ['Wallace Worsley'], 'writers': ['Gouverneur Morris (by)', 'Ruth Wightman (scenario)'], 'awards': {'wins': 0, 'nominations': 2, 'text': '2 nominations.'}, 'lastupdated': '2015-07-20 00:01:29.560000000', 'year': 1921, 'imdb': {'rating': 7.0, 'votes': 798, 'id': 11904}, 'type': 'movie', 'tomatoes': {'viewer': {'rating': 3.5, 'numReviews': 377, 'meter': 68}, 'lastUpdated': datetime.datetime(2015, 4, 28, 19, 29, 23)}}\n",
      "{'_id': ObjectId('573a1391f29313caabcd8268'), 'plot': \"Seeking revenge, an athletic young man joins the pirate band responsible for his father's death.\", 'genres': ['Adventure', 'Action'], 'runtime': 88, 'cast': ['Billie Dove', 'Tempe Pigott', 'Donald Crisp', 'Sam De Grasse'], 'num_mflix_comments': 1, 'poster': 'https://m.media-amazon.com/images/M/MV5BMzU0NDkyMjEzMV5BMl5BanBnXkFtZTgwMTcyMzEyMjE@._V1_SY1000_SX677_AL_.jpg', 'title': 'The Black Pirate', 'fullplot': 'A nobleman vows to avenge the death of his father at the hands of pirates. To this end he infiltrates the pirate band. Acting in character he is instrumental in the capture of a ship, but things are complicated when he finds that there is a young woman on board whom he wishes to protect from the threat of rape.', 'countries': ['USA'], 'released': datetime.datetime(1926, 3, 8, 0, 0), 'directors': ['Albert Parker'], 'writers': ['Douglas Fairbanks (story)', 'Jack Cunningham (adapted by)'], 'awards': {'wins': 1, 'nominations': 0, 'text': '1 win.'}, 'lastupdated': '2015-08-22 01:10:11.970000000', 'year': 1926, 'imdb': {'rating': 7.2, 'votes': 1146, 'id': 16654}, 'type': 'movie', 'tomatoes': {'viewer': {'rating': 3.3, 'numReviews': 1390, 'meter': 70}, 'dvd': datetime.datetime(1999, 10, 12, 0, 0), 'critic': {'rating': 8.1, 'numReviews': 9, 'meter': 100}, 'lastUpdated': datetime.datetime(2015, 7, 22, 19, 23, 50), 'rotten': 0, 'fresh': 9}}\n"
     ]
    }
   ],
   "source": [
    "import pymongo\n",
    "import requests\n",
    "\n",
    "client = pymongo.MongoClient(\"my URI\")\n",
    "\n",
    "db = client.sample_mflix\n",
    "collection = db.movies\n",
    "\n",
    "# Find the first 5 items\n",
    "items = collection.find().limit(5)\n",
    "\n",
    "for item in items:\n",
    "    print(item)\n"
   ]
  },
  {
   "cell_type": "code",
   "execution_count": 2,
   "id": "20d3dcd7",
   "metadata": {
    "scrolled": true
   },
   "outputs": [
    {
     "name": "stdout",
     "output_type": "stream",
     "text": [
      "Collecting pymongo\n",
      "  Downloading pymongo-4.6.2-cp39-cp39-macosx_10_9_universal2.whl (534 kB)\n",
      "\u001b[K     |████████████████████████████████| 534 kB 4.2 MB/s eta 0:00:01\n",
      "\u001b[?25hCollecting dnspython<3.0.0,>=1.16.0\n",
      "  Using cached dnspython-2.6.1-py3-none-any.whl (307 kB)\n",
      "Installing collected packages: dnspython, pymongo\n",
      "Successfully installed dnspython-2.6.1 pymongo-4.6.2\n"
     ]
    }
   ],
   "source": [
    "!pip3 install pymongo"
   ]
  },
  {
   "cell_type": "code",
   "execution_count": 9,
   "id": "53a79552",
   "metadata": {},
   "outputs": [],
   "source": [
    "hf_token = \".....\"\n",
    "embedding_url = \"https://api-inference.huggingface.co/pipeline/feature-extraction/sentence-transformers/all-MiniLM-L6-v2\"\n",
    "\n",
    "def generate_embedding(text: str) -> list[float]:\n",
    "\n",
    "    response = requests.post(\n",
    "        embedding_url,\n",
    "        headers={\"Authorization\": f\"Bearer {hf_token}\"},\n",
    "        json={\"inputs\": text})\n",
    "\n",
    "    if response.status_code != 200:\n",
    "        raise ValueError(f\"Request failed with status code {response.status_code}: {response.text}\")\n",
    "\n",
    "    return response.json()"
   ]
  },
  {
   "cell_type": "code",
   "execution_count": 10,
   "id": "abdd0f8b",
   "metadata": {},
   "outputs": [
    {
     "name": "stdout",
     "output_type": "stream",
     "text": [
      "[-0.04656720161437988, -0.10088976472616196, 0.023876406252384186, 0.03345140069723129, 0.04757402837276459, 0.009101650677621365, -0.01100260391831398, -0.055370427668094635, -0.00289178011007607, 0.033230096101760864, 0.04593603312969208, 0.02030876651406288, -0.018762925639748573, 0.022110996767878532, 0.014108472503721714, 0.019433695822954178, -0.002060073195025325, 0.04771622642874718, 0.028062671422958374, -0.04205813631415367, -0.08776022493839264, -0.10249533504247665, -0.007292993366718292, 0.027418116107583046, 0.09413713961839676, 0.10750176012516022, -0.010373201221227646, 0.023484326899051666, 0.052364930510520935, -0.00033178081503137946, -0.02072683535516262, 0.012178347446024418, 0.041434723883867264, 0.0474986657500267, 0.01721927523612976, -0.006702423561364412, 0.015687284991145134, -0.03740110620856285, -0.14948050677776337, -0.05766904354095459, -0.12188048660755157, 0.10859912633895874, 0.05935731902718544, 0.03546006232500076, -0.013562660664319992, -0.015600200742483139, 0.040257036685943604, -0.05820653960108757, 0.04008515551686287, 0.03975154459476471, 0.07492970675230026, -0.09976987540721893, -0.020627783611416817, -0.01589900441467762, -0.03448822349309921, -0.04989154636859894, 0.011821399442851543, -0.003469575196504593, -0.040534608066082, 0.05489810183644295, -0.004869883880019188, -0.04494105651974678, -0.0818793922662735, -0.010486901737749577, -0.007342646364122629, 0.020770516246557236, -0.015862444415688515, 0.08761954307556152, 0.05150725319981575, -0.10170585662126541, -0.05616314336657524, -0.005720303859561682, 0.021688012406229973, 0.029157206416130066, 0.06112799420952797, -0.02821151167154312, 0.0408146046102047, -0.01607239432632923, 0.007871531881392002, -0.01356971450150013, 0.036806754767894745, -0.004182350356131792, 0.009961964562535286, -0.00027881158166565, 0.06144576147198677, -0.09329864382743835, -0.019734550267457962, 0.028550967574119568, -0.009019064716994762, 0.02798437513411045, -0.014225221239030361, 0.028089189901947975, -0.019087733700871468, 0.005441236309707165, -0.04864419624209404, -0.03884368762373924, 0.10284823179244995, -0.0563843734562397, -0.07875198870897293, 0.01638038456439972, -0.09285231679677963, -0.030915671959519386, -0.012956985272467136, -0.0848134234547615, 0.04412221536040306, -0.002899069804698229, 0.16099557280540466, 0.04329198598861694, 0.03688979893922806, 0.04988759383559227, 0.01720048300921917, -0.03610503673553467, -0.011061633005738258, -0.03168458864092827, 0.01965750753879547, 0.00400735205039382, -0.023148922249674797, 0.05597298592329025, -0.002954428317025304, 0.09490394592285156, -0.04170488193631172, -0.008995764888823032, 0.015238292515277863, 0.002102731028571725, -0.08734889328479767, -0.07941500097513199, -0.04242178797721863, -3.5298853280107757e-34, 0.014663062058389187, -0.01292350236326456, -0.03873194381594658, -0.05433659628033638, 0.10238667577505112, -0.11753703653812408, 0.07368235290050507, 0.010853003710508347, -0.12543272972106934, 0.05157604068517685, 0.027053598314523697, -0.029497191309928894, -0.08415166288614273, 0.1249813437461853, 0.061797719448804855, -0.06227169185876846, -0.1074773371219635, 0.022289790213108063, 0.018682148307561874, 0.004981376230716705, -0.040514614433050156, -0.023929109796881676, -0.03281121328473091, 0.04337244853377342, 0.01430524792522192, -0.0047892858274281025, 0.00611447636038065, -0.011983426287770271, 0.1345372349023819, 0.024841181933879852, -0.12413885444402695, -0.07164782285690308, -0.056667935103178024, -0.07790940999984741, 0.004524594638496637, 0.041281454265117645, -0.061502646654844284, -0.01104168500751257, -0.029528699815273285, 0.008443417027592659, -0.035781074315309525, -0.021694183349609375, -0.0055580465123057365, -0.0514451302587986, 0.11115723103284836, -0.04125801473855972, 0.028386466205120087, 0.0033648235257714987, 0.021068932488560677, 0.04200227931141853, -0.022417807951569557, -0.03291676938533783, -0.011370984837412834, 0.1126791313290596, -0.09860002994537354, -0.08347038924694061, 0.035716790705919266, 0.09685313701629639, 0.04595353081822395, 0.046055592596530914, -0.0013457364402711391, 0.019291164353489876, -0.028867606073617935, -0.032395970076322556, 0.007605831604450941, 0.009536989964544773, 0.059804435819387436, 0.025203868746757507, -0.042421355843544006, 0.06540372222661972, -0.021469885483384132, -0.016150716692209244, 0.056863050907850266, -0.012807490304112434, -0.04083649441599846, 0.0015225091483443975, 0.014832936227321625, 0.00827727746218443, -0.09747911989688873, 0.016149461269378662, -0.0049269841983914375, -0.012560647912323475, 0.033369775861501694, 0.06679286807775497, -0.007800647523254156, -0.024222945794463158, -0.008692783303558826, -0.04773363098502159, -0.058074258267879486, 0.050375066697597504, -0.0542679987847805, -0.060453422367572784, 0.040030453354120255, 0.010502486489713192, -0.029837435111403465, 2.0321764502733314e-33, 0.011888941749930382, -0.027287153527140617, -0.017001254484057426, -0.04165066033601761, -0.0019667029846459627, -0.011704507283866405, -0.05866912752389908, 0.09891991317272186, -0.019977586343884468, 0.01845262385904789, -0.009707699529826641, 0.03937315195798874, 0.007097887806594372, 0.03624933958053589, 0.03823861852288246, -0.07874156534671783, -0.0013115722686052322, 0.02309298701584339, -0.0031733610667288303, -0.022654227912425995, 0.0006367298774421215, 0.08582716435194016, 0.006728168111294508, -0.041188281029462814, -0.0190106388181448, -0.011556006968021393, -0.0778471902012825, 0.05497574806213379, 0.07644335180521011, 0.04676308110356331, 0.07352238148450851, -0.016226932406425476, -0.01061288546770811, -0.08597150444984436, 0.047101940959692, 0.008566310629248619, 0.02959282509982586, 0.021435260772705078, -0.07522587478160858, 0.02068978175520897, 0.05064614117145538, -0.012178907170891762, 0.0017627347260713577, 0.035901378840208054, 0.026106426492333412, 0.05972444266080856, -0.06874843686819077, 0.0026078857481479645, -0.017529534175992012, 0.007461806759238243, -0.04282283037900925, 0.006857522763311863, -0.021143104881048203, -0.13006897270679474, 0.011962436139583588, -0.04335629567503929, 0.01011534221470356, -0.0073081133887171745, 0.06238445267081261, -0.01680797152221203, -0.06707744300365448, -0.039010562002658844, 0.03282695636153221, -0.047560129314661026, 0.009555463679134846, 0.025746731087565422, -0.0036973103415220976, 0.03281692415475845, -0.0612574964761734, 0.04338422417640686, -0.06352313607931137, 0.09949669986963272, -0.047279324382543564, 0.014466151595115662, -0.04421475902199745, -0.005149636417627335, 0.09478656947612762, 0.07992780208587646, -0.00889075081795454, -0.05319651961326599, 0.09535041451454163, 0.024562058970332146, 0.014899903908371925, 0.02486654929816723, 0.06445770710706711, 0.09480369836091995, 0.01717192493379116, 0.057958632707595825, -0.045219242572784424, 0.015087218955159187, 0.03640730306506157, 0.07769352942705154, 0.05849582329392433, 0.001969617325812578, -0.05327552184462547, -1.2051817321889757e-08, -0.03103690780699253, 0.014904959127306938, 0.03673034906387329, -0.019244637340307236, -0.055017367005348206, 0.03260815516114235, 0.0572509802877903, 0.03159496188163757, -0.012756627053022385, 0.03016960248351097, 0.11218568682670593, -0.015503617003560066, -0.10910269618034363, 0.04841826483607292, -0.02974504791200161, 0.01954342983663082, 0.015083862468600273, 0.04685947671532631, 0.01920493133366108, 0.01851581409573555, 0.0057700579054653645, 0.052762407809495926, -0.02141687273979187, -0.005130538251250982, 0.005098921712487936, -0.03231288865208626, 0.07944077998399734, 0.07881789654493332, 0.06889833509922028, -0.06157452240586281, 0.043310362845659256, 0.04851284250617027, 0.061933260411024094, 0.04260746017098427, -0.023673851042985916, -0.06369625777006149, -0.016845466569066048, 0.062438853085041046, -0.02239668369293213, -0.028624020516872406, 0.02294151671230793, 0.0606330968439579, 0.04914269223809242, -0.053717490285634995, -0.0956515222787857, 0.01091169472783804, 0.09009959548711777, -0.08648978173732758, 0.015781138092279434, -0.013979155570268631, -0.059115421026945114, 0.031012380495667458, 0.0025646728463470936, 0.04829717054963112, 0.1250908076763153, 0.08737992495298386, -0.024526342749595642, -0.03440914303064346, 0.02448594570159912, 0.06808649003505707, 0.029039539396762848, 0.044154610484838486, -0.04509500414133072, 0.07401616126298904]\n"
     ]
    }
   ],
   "source": [
    "# generate the embedding vector\n",
    "print(generate_embedding(\"freeCodeCamp is awesome\"))"
   ]
  },
  {
   "cell_type": "code",
   "execution_count": 11,
   "id": "3e8db600",
   "metadata": {},
   "outputs": [],
   "source": [
    "for doc in collection.find({'plot':{\"$exists\": True}}).limit(50):\n",
    "    doc['plot_embedding_hf'] = generate_embedding(doc['plot'])\n",
    "    collection.replace_one({'_id': doc['_id']}, doc)"
   ]
  },
  {
   "cell_type": "code",
   "execution_count": 13,
   "id": "9872a455",
   "metadata": {},
   "outputs": [
    {
     "name": "stdout",
     "output_type": "stream",
     "text": [
      "Movie Name: Westfront 1918,\n",
      "Movie Plot: A group of German infantrymen of the First World War live out their lives in the trenches of France. They find brief entertainment and relief in a village behind the lines, but primarily ...\n",
      "\n",
      "Movie Name: In the Land of the Head Hunters,\n",
      "Movie Plot: Original advertising for the film describes it as a drama of primitive life on the shores of the North Pacific...\n",
      "\n",
      "Movie Name: Tabu: A Story of the South Seas,\n",
      "Movie Plot: In his final film, F.W. Murnau presents the tale of two young lovers on the idyllic island of Bora Bora in the South Pacific. Their life is shattered when the old warrior declares the girl ...\n",
      "\n",
      "Movie Name: Wild Oranges,\n",
      "Movie Plot: Millie Stope lives with her grandfather on a remote island. Her grandfather fled there for political reasons. But they're not alone. An escaped prisoner, Nicholas, is terrorizing them, and ...\n",
      "\n"
     ]
    }
   ],
   "source": [
    "# try out and use the embeddings\n",
    "\n",
    "query = \"imaginary characters from outer space at war\"\n",
    "\n",
    "results = collection.aggregate([\n",
    "  {\"$vectorSearch\": {\n",
    "    \"queryVector\": generate_embedding(query),\n",
    "    \"path\": \"plot_embedding_hf\",\n",
    "    \"numCandidates\": 100,\n",
    "    \"limit\": 4,\n",
    "    \"index\": \"default\",\n",
    "      }}\n",
    "]);\n",
    "\n",
    "for document in results:\n",
    "    print(f'Movie Name: {document[\"title\"]},\\nMovie Plot: {document[\"plot\"]}\\n')"
   ]
  }
 ],
 "metadata": {
  "kernelspec": {
   "display_name": "Python 3 (ipykernel)",
   "language": "python",
   "name": "python3"
  },
  "language_info": {
   "codemirror_mode": {
    "name": "ipython",
    "version": 3
   },
   "file_extension": ".py",
   "mimetype": "text/x-python",
   "name": "python",
   "nbconvert_exporter": "python",
   "pygments_lexer": "ipython3",
   "version": "3.9.12"
  }
 },
 "nbformat": 4,
 "nbformat_minor": 5
}
